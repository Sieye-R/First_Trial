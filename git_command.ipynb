{
 "cells": [
  {
   "cell_type": "markdown",
   "id": "9bbaa616",
   "metadata": {},
   "source": [
    "Hello!\n",
    "<br>\n",
    "git clone web address\n",
    "<br>\n",
    "<br> git status\n",
    "<br> git add .\n",
    "<br> git ls\n",
    "<br> git la\n",
    "<br> git push\n",
    "<br> \n",
    "<br> git init\n"
   ]
  }
 ],
 "metadata": {
  "kernelspec": {
   "display_name": "Python 3",
   "language": "python",
   "name": "python3"
  },
  "language_info": {
   "codemirror_mode": {
    "name": "ipython",
    "version": 3
   },
   "file_extension": ".py",
   "mimetype": "text/x-python",
   "name": "python",
   "nbconvert_exporter": "python",
   "pygments_lexer": "ipython3",
   "version": "3.8.5"
  }
 },
 "nbformat": 4,
 "nbformat_minor": 5
}
